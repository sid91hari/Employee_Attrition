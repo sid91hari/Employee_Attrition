{
 "cells": [
  {
   "cell_type": "markdown",
   "metadata": {},
   "source": [
    "# HackerEarth Machine Learning challenge: Will your employees leave you?\n",
    "\n",
    "### Top 6% finish (Out of 5000+ participants)\n",
    "\n",
    "Employees are the most important part of an organization. Successful employees meet deadlines, make sales, and build the brand through positive customer interactions.\n",
    "\n",
    "Employee attrition is a major cost to an organization and predicting such attritions is the most important requirement of the Human Resources department in many organizations. The objective of this challenge is to predict the attrition rate of employees of an organization. \n",
    "\n",
    "This competition is organized by HackerEarth.\n",
    "\n",
    "Competition link:\n",
    "https://www.hackerearth.com/challenges/competitive/hackerearth-machine-learning-challenge-predict-employee-attrition-rate/\n",
    "\n",
    "#### Response Variable: Attrition_rate\n",
    "#### Evaluation Metric: \n",
    "#### Score = 100*max(0,1-RMSE(actual_values, predicted_values))"
   ]
  },
  {
   "cell_type": "code",
   "execution_count": 1,
   "metadata": {},
   "outputs": [],
   "source": [
    "# Set working path\n",
    "setwd(\"E:\\\\Hackerearth\\\\Employee Attrition\\\\Dataset\")"
   ]
  },
  {
   "cell_type": "code",
   "execution_count": 3,
   "metadata": {},
   "outputs": [],
   "source": [
    "# Load libraries\n",
    "suppressWarnings(library(dplyr))\n",
    "suppressWarnings(library(caret))\n",
    "suppressWarnings(library(Metrics))\n",
    "suppressWarnings(library(MLmetrics))\n",
    "suppressWarnings(library(mice))\n",
    "suppressWarnings(library(rcompanion))"
   ]
  },
  {
   "cell_type": "code",
   "execution_count": 4,
   "metadata": {},
   "outputs": [],
   "source": [
    "# Load dataset\n",
    "\n",
    "tr <- read.csv(\"Train.csv\",stringsAsFactors = F)\n",
    "te <- read.csv(\"Test.csv\",stringsAsFactors = F)"
   ]
  },
  {
   "cell_type": "code",
   "execution_count": 5,
   "metadata": {},
   "outputs": [
    {
     "data": {
      "text/html": [
       "<style>\n",
       ".dl-inline {width: auto; margin:0; padding: 0}\n",
       ".dl-inline>dt, .dl-inline>dd {float: none; width: auto; display: inline-block}\n",
       ".dl-inline>dt::after {content: \":\\0020\"; padding-right: .5ex}\n",
       ".dl-inline>dt:not(:first-of-type) {padding-left: .5ex}\n",
       "</style><dl class=dl-inline><dt>Employee_ID</dt><dd>0</dd><dt>Gender</dt><dd>0</dd><dt>Age</dt><dd>&lt;NA&gt;</dd><dt>Education_Level</dt><dd>0</dd><dt>Relationship_Status</dt><dd>0</dd><dt>Hometown</dt><dd>0</dd><dt>Unit</dt><dd>0</dd><dt>Decision_skill_possess</dt><dd>0</dd><dt>Time_of_service</dt><dd>&lt;NA&gt;</dd><dt>Time_since_promotion</dt><dd>0</dd><dt>growth_rate</dt><dd>0</dd><dt>Travel_Rate</dt><dd>0</dd><dt>Post_Level</dt><dd>0</dd><dt>Pay_Scale</dt><dd>&lt;NA&gt;</dd><dt>Compensation_and_Benefits</dt><dd>0</dd><dt>Work_Life_balance</dt><dd>&lt;NA&gt;</dd><dt>VAR1</dt><dd>0</dd><dt>VAR2</dt><dd>&lt;NA&gt;</dd><dt>VAR3</dt><dd>0</dd><dt>VAR4</dt><dd>&lt;NA&gt;</dd><dt>VAR5</dt><dd>0</dd><dt>VAR6</dt><dd>0</dd><dt>VAR7</dt><dd>0</dd><dt>Attrition_rate</dt><dd>0</dd></dl>\n"
      ],
      "text/latex": [
       "\\begin{description*}\n",
       "\\item[Employee\\textbackslash{}\\_ID] 0\n",
       "\\item[Gender] 0\n",
       "\\item[Age] <NA>\n",
       "\\item[Education\\textbackslash{}\\_Level] 0\n",
       "\\item[Relationship\\textbackslash{}\\_Status] 0\n",
       "\\item[Hometown] 0\n",
       "\\item[Unit] 0\n",
       "\\item[Decision\\textbackslash{}\\_skill\\textbackslash{}\\_possess] 0\n",
       "\\item[Time\\textbackslash{}\\_of\\textbackslash{}\\_service] <NA>\n",
       "\\item[Time\\textbackslash{}\\_since\\textbackslash{}\\_promotion] 0\n",
       "\\item[growth\\textbackslash{}\\_rate] 0\n",
       "\\item[Travel\\textbackslash{}\\_Rate] 0\n",
       "\\item[Post\\textbackslash{}\\_Level] 0\n",
       "\\item[Pay\\textbackslash{}\\_Scale] <NA>\n",
       "\\item[Compensation\\textbackslash{}\\_and\\textbackslash{}\\_Benefits] 0\n",
       "\\item[Work\\textbackslash{}\\_Life\\textbackslash{}\\_balance] <NA>\n",
       "\\item[VAR1] 0\n",
       "\\item[VAR2] <NA>\n",
       "\\item[VAR3] 0\n",
       "\\item[VAR4] <NA>\n",
       "\\item[VAR5] 0\n",
       "\\item[VAR6] 0\n",
       "\\item[VAR7] 0\n",
       "\\item[Attrition\\textbackslash{}\\_rate] 0\n",
       "\\end{description*}\n"
      ],
      "text/markdown": [
       "Employee_ID\n",
       ":   0Gender\n",
       ":   0Age\n",
       ":   &lt;NA&gt;Education_Level\n",
       ":   0Relationship_Status\n",
       ":   0Hometown\n",
       ":   0Unit\n",
       ":   0Decision_skill_possess\n",
       ":   0Time_of_service\n",
       ":   &lt;NA&gt;Time_since_promotion\n",
       ":   0growth_rate\n",
       ":   0Travel_Rate\n",
       ":   0Post_Level\n",
       ":   0Pay_Scale\n",
       ":   &lt;NA&gt;Compensation_and_Benefits\n",
       ":   0Work_Life_balance\n",
       ":   &lt;NA&gt;VAR1\n",
       ":   0VAR2\n",
       ":   &lt;NA&gt;VAR3\n",
       ":   0VAR4\n",
       ":   &lt;NA&gt;VAR5\n",
       ":   0VAR6\n",
       ":   0VAR7\n",
       ":   0Attrition_rate\n",
       ":   0\n",
       "\n"
      ],
      "text/plain": [
       "              Employee_ID                    Gender                       Age \n",
       "                        0                         0                        NA \n",
       "          Education_Level       Relationship_Status                  Hometown \n",
       "                        0                         0                         0 \n",
       "                     Unit    Decision_skill_possess           Time_of_service \n",
       "                        0                         0                        NA \n",
       "     Time_since_promotion               growth_rate               Travel_Rate \n",
       "                        0                         0                         0 \n",
       "               Post_Level                 Pay_Scale Compensation_and_Benefits \n",
       "                        0                        NA                         0 \n",
       "        Work_Life_balance                      VAR1                      VAR2 \n",
       "                       NA                         0                        NA \n",
       "                     VAR3                      VAR4                      VAR5 \n",
       "                        0                        NA                         0 \n",
       "                     VAR6                      VAR7            Attrition_rate \n",
       "                        0                         0                         0 "
      ]
     },
     "metadata": {},
     "output_type": "display_data"
    },
    {
     "data": {
      "text/html": [
       "<style>\n",
       ".dl-inline {width: auto; margin:0; padding: 0}\n",
       ".dl-inline>dt, .dl-inline>dd {float: none; width: auto; display: inline-block}\n",
       ".dl-inline>dt::after {content: \":\\0020\"; padding-right: .5ex}\n",
       ".dl-inline>dt:not(:first-of-type) {padding-left: .5ex}\n",
       "</style><dl class=dl-inline><dt>Employee_ID</dt><dd>0</dd><dt>Gender</dt><dd>0</dd><dt>Age</dt><dd>&lt;NA&gt;</dd><dt>Education_Level</dt><dd>0</dd><dt>Relationship_Status</dt><dd>0</dd><dt>Hometown</dt><dd>0</dd><dt>Unit</dt><dd>0</dd><dt>Decision_skill_possess</dt><dd>0</dd><dt>Time_of_service</dt><dd>&lt;NA&gt;</dd><dt>Time_since_promotion</dt><dd>0</dd><dt>growth_rate</dt><dd>0</dd><dt>Travel_Rate</dt><dd>0</dd><dt>Post_Level</dt><dd>0</dd><dt>Pay_Scale</dt><dd>&lt;NA&gt;</dd><dt>Compensation_and_Benefits</dt><dd>0</dd><dt>Work_Life_balance</dt><dd>&lt;NA&gt;</dd><dt>VAR1</dt><dd>0</dd><dt>VAR2</dt><dd>&lt;NA&gt;</dd><dt>VAR3</dt><dd>0</dd><dt>VAR4</dt><dd>&lt;NA&gt;</dd><dt>VAR5</dt><dd>0</dd><dt>VAR6</dt><dd>0</dd><dt>VAR7</dt><dd>0</dd></dl>\n"
      ],
      "text/latex": [
       "\\begin{description*}\n",
       "\\item[Employee\\textbackslash{}\\_ID] 0\n",
       "\\item[Gender] 0\n",
       "\\item[Age] <NA>\n",
       "\\item[Education\\textbackslash{}\\_Level] 0\n",
       "\\item[Relationship\\textbackslash{}\\_Status] 0\n",
       "\\item[Hometown] 0\n",
       "\\item[Unit] 0\n",
       "\\item[Decision\\textbackslash{}\\_skill\\textbackslash{}\\_possess] 0\n",
       "\\item[Time\\textbackslash{}\\_of\\textbackslash{}\\_service] <NA>\n",
       "\\item[Time\\textbackslash{}\\_since\\textbackslash{}\\_promotion] 0\n",
       "\\item[growth\\textbackslash{}\\_rate] 0\n",
       "\\item[Travel\\textbackslash{}\\_Rate] 0\n",
       "\\item[Post\\textbackslash{}\\_Level] 0\n",
       "\\item[Pay\\textbackslash{}\\_Scale] <NA>\n",
       "\\item[Compensation\\textbackslash{}\\_and\\textbackslash{}\\_Benefits] 0\n",
       "\\item[Work\\textbackslash{}\\_Life\\textbackslash{}\\_balance] <NA>\n",
       "\\item[VAR1] 0\n",
       "\\item[VAR2] <NA>\n",
       "\\item[VAR3] 0\n",
       "\\item[VAR4] <NA>\n",
       "\\item[VAR5] 0\n",
       "\\item[VAR6] 0\n",
       "\\item[VAR7] 0\n",
       "\\end{description*}\n"
      ],
      "text/markdown": [
       "Employee_ID\n",
       ":   0Gender\n",
       ":   0Age\n",
       ":   &lt;NA&gt;Education_Level\n",
       ":   0Relationship_Status\n",
       ":   0Hometown\n",
       ":   0Unit\n",
       ":   0Decision_skill_possess\n",
       ":   0Time_of_service\n",
       ":   &lt;NA&gt;Time_since_promotion\n",
       ":   0growth_rate\n",
       ":   0Travel_Rate\n",
       ":   0Post_Level\n",
       ":   0Pay_Scale\n",
       ":   &lt;NA&gt;Compensation_and_Benefits\n",
       ":   0Work_Life_balance\n",
       ":   &lt;NA&gt;VAR1\n",
       ":   0VAR2\n",
       ":   &lt;NA&gt;VAR3\n",
       ":   0VAR4\n",
       ":   &lt;NA&gt;VAR5\n",
       ":   0VAR6\n",
       ":   0VAR7\n",
       ":   0\n",
       "\n"
      ],
      "text/plain": [
       "              Employee_ID                    Gender                       Age \n",
       "                        0                         0                        NA \n",
       "          Education_Level       Relationship_Status                  Hometown \n",
       "                        0                         0                         0 \n",
       "                     Unit    Decision_skill_possess           Time_of_service \n",
       "                        0                         0                        NA \n",
       "     Time_since_promotion               growth_rate               Travel_Rate \n",
       "                        0                         0                         0 \n",
       "               Post_Level                 Pay_Scale Compensation_and_Benefits \n",
       "                        0                        NA                         0 \n",
       "        Work_Life_balance                      VAR1                      VAR2 \n",
       "                       NA                         0                        NA \n",
       "                     VAR3                      VAR4                      VAR5 \n",
       "                        0                        NA                         0 \n",
       "                     VAR6                      VAR7 \n",
       "                        0                         0 "
      ]
     },
     "metadata": {},
     "output_type": "display_data"
    }
   ],
   "source": [
    "# Checking for blanks\n",
    "\n",
    "colSums(tr=='')\n",
    "colSums(te=='')"
   ]
  },
  {
   "cell_type": "markdown",
   "metadata": {},
   "source": [
    "There are no blanks but some variables have NA values"
   ]
  },
  {
   "cell_type": "code",
   "execution_count": 6,
   "metadata": {},
   "outputs": [
    {
     "data": {
      "text/html": [
       "<style>\n",
       ".dl-inline {width: auto; margin:0; padding: 0}\n",
       ".dl-inline>dt, .dl-inline>dd {float: none; width: auto; display: inline-block}\n",
       ".dl-inline>dt::after {content: \":\\0020\"; padding-right: .5ex}\n",
       ".dl-inline>dt:not(:first-of-type) {padding-left: .5ex}\n",
       "</style><dl class=dl-inline><dt>Employee_ID</dt><dd>0</dd><dt>Gender</dt><dd>0</dd><dt>Age</dt><dd>5.89</dd><dt>Education_Level</dt><dd>0</dd><dt>Relationship_Status</dt><dd>0</dd><dt>Hometown</dt><dd>0</dd><dt>Unit</dt><dd>0</dd><dt>Decision_skill_possess</dt><dd>0</dd><dt>Time_of_service</dt><dd>2.06</dd><dt>Time_since_promotion</dt><dd>0</dd><dt>growth_rate</dt><dd>0</dd><dt>Travel_Rate</dt><dd>0</dd><dt>Post_Level</dt><dd>0</dd><dt>Pay_Scale</dt><dd>0.13</dd><dt>Compensation_and_Benefits</dt><dd>0</dd><dt>Work_Life_balance</dt><dd>0.16</dd><dt>VAR1</dt><dd>0</dd><dt>VAR2</dt><dd>8.24</dd><dt>VAR3</dt><dd>0</dd><dt>VAR4</dt><dd>9.37</dd><dt>VAR5</dt><dd>0</dd><dt>VAR6</dt><dd>0</dd><dt>VAR7</dt><dd>0</dd><dt>Attrition_rate</dt><dd>0</dd></dl>\n"
      ],
      "text/latex": [
       "\\begin{description*}\n",
       "\\item[Employee\\textbackslash{}\\_ID] 0\n",
       "\\item[Gender] 0\n",
       "\\item[Age] 5.89\n",
       "\\item[Education\\textbackslash{}\\_Level] 0\n",
       "\\item[Relationship\\textbackslash{}\\_Status] 0\n",
       "\\item[Hometown] 0\n",
       "\\item[Unit] 0\n",
       "\\item[Decision\\textbackslash{}\\_skill\\textbackslash{}\\_possess] 0\n",
       "\\item[Time\\textbackslash{}\\_of\\textbackslash{}\\_service] 2.06\n",
       "\\item[Time\\textbackslash{}\\_since\\textbackslash{}\\_promotion] 0\n",
       "\\item[growth\\textbackslash{}\\_rate] 0\n",
       "\\item[Travel\\textbackslash{}\\_Rate] 0\n",
       "\\item[Post\\textbackslash{}\\_Level] 0\n",
       "\\item[Pay\\textbackslash{}\\_Scale] 0.13\n",
       "\\item[Compensation\\textbackslash{}\\_and\\textbackslash{}\\_Benefits] 0\n",
       "\\item[Work\\textbackslash{}\\_Life\\textbackslash{}\\_balance] 0.16\n",
       "\\item[VAR1] 0\n",
       "\\item[VAR2] 8.24\n",
       "\\item[VAR3] 0\n",
       "\\item[VAR4] 9.37\n",
       "\\item[VAR5] 0\n",
       "\\item[VAR6] 0\n",
       "\\item[VAR7] 0\n",
       "\\item[Attrition\\textbackslash{}\\_rate] 0\n",
       "\\end{description*}\n"
      ],
      "text/markdown": [
       "Employee_ID\n",
       ":   0Gender\n",
       ":   0Age\n",
       ":   5.89Education_Level\n",
       ":   0Relationship_Status\n",
       ":   0Hometown\n",
       ":   0Unit\n",
       ":   0Decision_skill_possess\n",
       ":   0Time_of_service\n",
       ":   2.06Time_since_promotion\n",
       ":   0growth_rate\n",
       ":   0Travel_Rate\n",
       ":   0Post_Level\n",
       ":   0Pay_Scale\n",
       ":   0.13Compensation_and_Benefits\n",
       ":   0Work_Life_balance\n",
       ":   0.16VAR1\n",
       ":   0VAR2\n",
       ":   8.24VAR3\n",
       ":   0VAR4\n",
       ":   9.37VAR5\n",
       ":   0VAR6\n",
       ":   0VAR7\n",
       ":   0Attrition_rate\n",
       ":   0\n",
       "\n"
      ],
      "text/plain": [
       "              Employee_ID                    Gender                       Age \n",
       "                     0.00                      0.00                      5.89 \n",
       "          Education_Level       Relationship_Status                  Hometown \n",
       "                     0.00                      0.00                      0.00 \n",
       "                     Unit    Decision_skill_possess           Time_of_service \n",
       "                     0.00                      0.00                      2.06 \n",
       "     Time_since_promotion               growth_rate               Travel_Rate \n",
       "                     0.00                      0.00                      0.00 \n",
       "               Post_Level                 Pay_Scale Compensation_and_Benefits \n",
       "                     0.00                      0.13                      0.00 \n",
       "        Work_Life_balance                      VAR1                      VAR2 \n",
       "                     0.16                      0.00                      8.24 \n",
       "                     VAR3                      VAR4                      VAR5 \n",
       "                     0.00                      9.37                      0.00 \n",
       "                     VAR6                      VAR7            Attrition_rate \n",
       "                     0.00                      0.00                      0.00 "
      ]
     },
     "metadata": {},
     "output_type": "display_data"
    }
   ],
   "source": [
    "# Checking NAs\n",
    "round(colSums(is.na(tr))*100/nrow(tr),2)"
   ]
  },
  {
   "cell_type": "markdown",
   "metadata": {},
   "source": [
    "NAs are present in Age, Time_of_service, Pay_Scale, Work_Life_balance, VAR2, VAR4"
   ]
  },
  {
   "cell_type": "code",
   "execution_count": 7,
   "metadata": {},
   "outputs": [
    {
     "name": "stdout",
     "output_type": "stream",
     "text": [
      "'data.frame':\t7000 obs. of  24 variables:\n",
      " $ Employee_ID              : chr  \"EID_23371\" \"EID_18000\" \"EID_3891\" \"EID_17492\" ...\n",
      " $ Gender                   : chr  \"F\" \"M\" \"F\" \"F\" ...\n",
      " $ Age                      : num  42 24 58 26 31 54 21 NA 40 45 ...\n",
      " $ Education_Level          : int  4 3 3 3 1 3 4 3 4 3 ...\n",
      " $ Relationship_Status      : chr  \"Married\" \"Single\" \"Married\" \"Single\" ...\n",
      " $ Hometown                 : chr  \"Franklin\" \"Springfield\" \"Clinton\" \"Lebanon\" ...\n",
      " $ Unit                     : chr  \"IT\" \"Logistics\" \"Quality\" \"Human Resource Management\" ...\n",
      " $ Decision_skill_possess   : chr  \"Conceptual\" \"Analytical\" \"Conceptual\" \"Behavioral\" ...\n",
      " $ Time_of_service          : num  4 5 27 4 5 19 2 34 13 21 ...\n",
      " $ Time_since_promotion     : int  4 4 3 3 4 1 1 4 1 4 ...\n",
      " $ growth_rate              : int  33 36 51 56 62 21 50 23 49 34 ...\n",
      " $ Travel_Rate              : int  1 0 0 1 1 2 1 1 0 0 ...\n",
      " $ Post_Level               : int  1 3 2 3 3 5 1 4 1 2 ...\n",
      " $ Pay_Scale                : num  7 6 8 8 2 9 6 6 9 5 ...\n",
      " $ Compensation_and_Benefits: chr  \"type2\" \"type2\" \"type2\" \"type2\" ...\n",
      " $ Work_Life_balance        : num  3 4 1 1 3 1 2 2 4 4 ...\n",
      " $ VAR1                     : int  4 3 4 3 1 3 3 3 1 3 ...\n",
      " $ VAR2                     : num  0.752 -0.961 -0.961 -1.818 0.752 ...\n",
      " $ VAR3                     : num  1.869 -0.454 -0.454 -0.454 -0.454 ...\n",
      " $ VAR4                     : num  2 2 3 NA 2 2 2 2 2 2 ...\n",
      " $ VAR5                     : int  4 3 3 3 2 2 3 3 5 4 ...\n",
      " $ VAR6                     : int  5 5 8 7 8 8 7 9 6 8 ...\n",
      " $ VAR7                     : int  3 3 3 3 2 3 3 3 3 3 ...\n",
      " $ Attrition_rate           : num  0.1841 0.067 0.0851 0.0668 0.1827 ...\n"
     ]
    }
   ],
   "source": [
    "# Data Statistics\n",
    "\n",
    "str(tr)"
   ]
  },
  {
   "cell_type": "markdown",
   "metadata": {},
   "source": [
    "## Data cleaning and EDA"
   ]
  },
  {
   "cell_type": "markdown",
   "metadata": {},
   "source": [
    "#### Null Value Treatment\n",
    "\n",
    "Here, mice function from mice package is used to predict and impute NAs. CART method is used for prediction."
   ]
  },
  {
   "cell_type": "code",
   "execution_count": 8,
   "metadata": {},
   "outputs": [
    {
     "name": "stdout",
     "output_type": "stream",
     "text": [
      "\n",
      " iter imp variable\n",
      "  1   1  Age  Time_of_service  Pay_Scale  Work_Life_balance  VAR2  VAR4\n",
      "  1   2  Age  Time_of_service  Pay_Scale  Work_Life_balance  VAR2  VAR4\n",
      "  1   3  Age  Time_of_service  Pay_Scale  Work_Life_balance  VAR2  VAR4\n",
      "  1   4  Age  Time_of_service  Pay_Scale  Work_Life_balance  VAR2  VAR4\n",
      "  1   5  Age  Time_of_service  Pay_Scale  Work_Life_balance  VAR2  VAR4\n"
     ]
    },
    {
     "name": "stderr",
     "output_type": "stream",
     "text": [
      "Warning message:\n",
      "\"Number of logged events: 7\"\n"
     ]
    }
   ],
   "source": [
    "imputedValues <- mice(data=tr\n",
    "                      , seed=42     # keep to replicate results\n",
    "                      , method=\"cart\" # model you want to use\n",
    "                      , m=5           # Number of multiple imputations\n",
    "                      , maxit = 1     # number of iterations\n",
    ")\n",
    "\n",
    "# impute the missing values in our tr data.frame\n",
    "tr <- mice::complete(imputedValues,1) # completely fills in the missing"
   ]
  },
  {
   "cell_type": "markdown",
   "metadata": {},
   "source": [
    "The treatment is done for test data"
   ]
  },
  {
   "cell_type": "code",
   "execution_count": 9,
   "metadata": {},
   "outputs": [
    {
     "name": "stdout",
     "output_type": "stream",
     "text": [
      "\n",
      " iter imp variable\n",
      "  1   1  Age  Time_of_service  Pay_Scale  Work_Life_balance  VAR2  VAR4\n",
      "  1   2  Age  Time_of_service  Pay_Scale  Work_Life_balance  VAR2  VAR4\n",
      "  1   3  Age  Time_of_service  Pay_Scale  Work_Life_balance  VAR2  VAR4\n",
      "  1   4  Age  Time_of_service  Pay_Scale  Work_Life_balance  VAR2  VAR4\n",
      "  1   5  Age  Time_of_service  Pay_Scale  Work_Life_balance  VAR2  VAR4\n"
     ]
    },
    {
     "name": "stderr",
     "output_type": "stream",
     "text": [
      "Warning message:\n",
      "\"Number of logged events: 7\"\n"
     ]
    }
   ],
   "source": [
    "imputedValues <- mice(data=te\n",
    "                      , seed=42     # keep to replicate results\n",
    "                      , method=\"cart\" # model you want to use\n",
    "                      , m=5           # Number of multiple imputations\n",
    "                      , maxit = 1     # number of iterations\n",
    ")\n",
    "\n",
    "# impute the missing values in our tr data.frame\n",
    "te <- mice::complete(imputedValues,1) # completely fills in the missing"
   ]
  },
  {
   "cell_type": "code",
   "execution_count": 10,
   "metadata": {},
   "outputs": [
    {
     "data": {
      "text/html": [
       "<style>\n",
       ".dl-inline {width: auto; margin:0; padding: 0}\n",
       ".dl-inline>dt, .dl-inline>dd {float: none; width: auto; display: inline-block}\n",
       ".dl-inline>dt::after {content: \":\\0020\"; padding-right: .5ex}\n",
       ".dl-inline>dt:not(:first-of-type) {padding-left: .5ex}\n",
       "</style><dl class=dl-inline><dt>Employee_ID</dt><dd>7000</dd><dt>Gender</dt><dd>2</dd><dt>Age</dt><dd>47</dd><dt>Education_Level</dt><dd>5</dd><dt>Relationship_Status</dt><dd>2</dd><dt>Hometown</dt><dd>5</dd><dt>Unit</dt><dd>12</dd><dt>Decision_skill_possess</dt><dd>4</dd><dt>Time_of_service</dt><dd>44</dd><dt>Time_since_promotion</dt><dd>5</dd><dt>growth_rate</dt><dd>55</dd><dt>Travel_Rate</dt><dd>3</dd><dt>Post_Level</dt><dd>5</dd><dt>Pay_Scale</dt><dd>10</dd><dt>Compensation_and_Benefits</dt><dd>5</dd><dt>Work_Life_balance</dt><dd>5</dd><dt>VAR1</dt><dd>5</dd><dt>VAR2</dt><dd>5</dd><dt>VAR3</dt><dd>5</dd><dt>VAR4</dt><dd>3</dd><dt>VAR5</dt><dd>5</dd><dt>VAR6</dt><dd>5</dd><dt>VAR7</dt><dd>5</dd><dt>Attrition_rate</dt><dd>3317</dd></dl>\n"
      ],
      "text/latex": [
       "\\begin{description*}\n",
       "\\item[Employee\\textbackslash{}\\_ID] 7000\n",
       "\\item[Gender] 2\n",
       "\\item[Age] 47\n",
       "\\item[Education\\textbackslash{}\\_Level] 5\n",
       "\\item[Relationship\\textbackslash{}\\_Status] 2\n",
       "\\item[Hometown] 5\n",
       "\\item[Unit] 12\n",
       "\\item[Decision\\textbackslash{}\\_skill\\textbackslash{}\\_possess] 4\n",
       "\\item[Time\\textbackslash{}\\_of\\textbackslash{}\\_service] 44\n",
       "\\item[Time\\textbackslash{}\\_since\\textbackslash{}\\_promotion] 5\n",
       "\\item[growth\\textbackslash{}\\_rate] 55\n",
       "\\item[Travel\\textbackslash{}\\_Rate] 3\n",
       "\\item[Post\\textbackslash{}\\_Level] 5\n",
       "\\item[Pay\\textbackslash{}\\_Scale] 10\n",
       "\\item[Compensation\\textbackslash{}\\_and\\textbackslash{}\\_Benefits] 5\n",
       "\\item[Work\\textbackslash{}\\_Life\\textbackslash{}\\_balance] 5\n",
       "\\item[VAR1] 5\n",
       "\\item[VAR2] 5\n",
       "\\item[VAR3] 5\n",
       "\\item[VAR4] 3\n",
       "\\item[VAR5] 5\n",
       "\\item[VAR6] 5\n",
       "\\item[VAR7] 5\n",
       "\\item[Attrition\\textbackslash{}\\_rate] 3317\n",
       "\\end{description*}\n"
      ],
      "text/markdown": [
       "Employee_ID\n",
       ":   7000Gender\n",
       ":   2Age\n",
       ":   47Education_Level\n",
       ":   5Relationship_Status\n",
       ":   2Hometown\n",
       ":   5Unit\n",
       ":   12Decision_skill_possess\n",
       ":   4Time_of_service\n",
       ":   44Time_since_promotion\n",
       ":   5growth_rate\n",
       ":   55Travel_Rate\n",
       ":   3Post_Level\n",
       ":   5Pay_Scale\n",
       ":   10Compensation_and_Benefits\n",
       ":   5Work_Life_balance\n",
       ":   5VAR1\n",
       ":   5VAR2\n",
       ":   5VAR3\n",
       ":   5VAR4\n",
       ":   3VAR5\n",
       ":   5VAR6\n",
       ":   5VAR7\n",
       ":   5Attrition_rate\n",
       ":   3317\n",
       "\n"
      ],
      "text/plain": [
       "              Employee_ID                    Gender                       Age \n",
       "                     7000                         2                        47 \n",
       "          Education_Level       Relationship_Status                  Hometown \n",
       "                        5                         2                         5 \n",
       "                     Unit    Decision_skill_possess           Time_of_service \n",
       "                       12                         4                        44 \n",
       "     Time_since_promotion               growth_rate               Travel_Rate \n",
       "                        5                        55                         3 \n",
       "               Post_Level                 Pay_Scale Compensation_and_Benefits \n",
       "                        5                        10                         5 \n",
       "        Work_Life_balance                      VAR1                      VAR2 \n",
       "                        5                         5                         5 \n",
       "                     VAR3                      VAR4                      VAR5 \n",
       "                        5                         3                         5 \n",
       "                     VAR6                      VAR7            Attrition_rate \n",
       "                        5                         5                      3317 "
      ]
     },
     "metadata": {},
     "output_type": "display_data"
    }
   ],
   "source": [
    "# Checking unique elements across every column\n",
    "sapply(tr,function(x){length(unique(x))})"
   ]
  },
  {
   "cell_type": "code",
   "execution_count": 11,
   "metadata": {},
   "outputs": [
    {
     "data": {
      "image/png": "[encoded data removed]",
      "text/plain": [
       "Plot with title \"Histogram of Attrition Rate\""
      ]
     },
     "metadata": {
      "image/png": {
       "height": 420,
       "width": 420
      },
      "text/plain": {
       "height": 420,
       "width": 420
      }
     },
     "output_type": "display_data"
    }
   ],
   "source": [
    "plotNormalHistogram(tr$Attrition_rate, main = \"Histogram of Attrition Rate\")"
   ]
  },
  {
   "cell_type": "code",
   "execution_count": 12,
   "metadata": {},
   "outputs": [
    {
     "data": {
      "image/png": "[encoded data removed]",
      "text/plain": [
       "Plot with title \"Normal Q-Q Plot\""
      ]
     },
     "metadata": {
      "image/png": {
       "height": 420,
       "width": 420
      },
      "text/plain": {
       "height": 420,
       "width": 420
      }
     },
     "output_type": "display_data"
    }
   ],
   "source": [
    "qqnorm(tr$Attrition_rate,\n",
    "       ylab=\"Attrition Rate\")\n",
    "\n",
    "qqline(tr$Attrition_rate,\n",
    "       col=\"red\")"
   ]
  },
  {
   "cell_type": "code",
   "execution_count": 13,
   "metadata": {},
   "outputs": [
    {
     "data": {
      "image/png": "[encoded data removed]",
      "text/plain": [
       "plot without title"
      ]
     },
     "metadata": {
      "image/png": {
       "height": 420,
       "width": 420
      },
      "text/plain": {
       "height": 420,
       "width": 420
      }
     },
     "output_type": "display_data"
    }
   ],
   "source": [
    "pairs(tr[c('Age','Time_of_service','growth_rate','Attrition_rate')])"
   ]
  },
  {
   "cell_type": "markdown",
   "metadata": {},
   "source": [
    "Pair plots are used to explain the relationship among numerical variables. We find that Age and Time of Service are linearly correlated."
   ]
  },
  {
   "cell_type": "code",
   "execution_count": 17,
   "metadata": {},
   "outputs": [
    {
     "data": {
      "text/html": [
       "<table>\n",
       "<caption>A data.frame: 2 × 2</caption>\n",
       "<thead>\n",
       "\t<tr><th scope=col>Gender</th><th scope=col>Attrition_rate</th></tr>\n",
       "\t<tr><th scope=col>&lt;chr&gt;</th><th scope=col>&lt;dbl&gt;</th></tr>\n",
       "</thead>\n",
       "<tbody>\n",
       "\t<tr><td>F</td><td>0.1849356</td></tr>\n",
       "\t<tr><td>M</td><td>0.1957062</td></tr>\n",
       "</tbody>\n",
       "</table>\n"
      ],
      "text/latex": [
       "A data.frame: 2 × 2\n",
       "\\begin{tabular}{ll}\n",
       " Gender & Attrition\\_rate\\\\\n",
       " <chr> & <dbl>\\\\\n",
       "\\hline\n",
       "\t F & 0.1849356\\\\\n",
       "\t M & 0.1957062\\\\\n",
       "\\end{tabular}\n"
      ],
      "text/markdown": [
       "\n",
       "A data.frame: 2 × 2\n",
       "\n",
       "| Gender &lt;chr&gt; | Attrition_rate &lt;dbl&gt; |\n",
       "|---|---|\n",
       "| F | 0.1849356 |\n",
       "| M | 0.1957062 |\n",
       "\n"
      ],
      "text/plain": [
       "  Gender Attrition_rate\n",
       "1 F      0.1849356     \n",
       "2 M      0.1957062     "
      ]
     },
     "metadata": {},
     "output_type": "display_data"
    }
   ],
   "source": [
    "gender_attrition <- aggregate(Attrition_rate~Gender, data=tr, FUN=mean, na.rm=T)\n",
    "\n",
    "gender_attrition"
   ]
  },
  {
   "cell_type": "markdown",
   "metadata": {},
   "source": [
    "Average attrition rate of Male is slightly higher than females."
   ]
  },
  {
   "cell_type": "code",
   "execution_count": 20,
   "metadata": {},
   "outputs": [
    {
     "data": {
      "text/html": [
       "<table>\n",
       "<caption>A data.frame: 2 × 2</caption>\n",
       "<thead>\n",
       "\t<tr><th scope=col>Relationship_Status</th><th scope=col>Attrition_rate</th></tr>\n",
       "\t<tr><th scope=col>&lt;chr&gt;</th><th scope=col>&lt;dbl&gt;</th></tr>\n",
       "</thead>\n",
       "<tbody>\n",
       "\t<tr><td>Married</td><td>0.1881232</td></tr>\n",
       "\t<tr><td>Single </td><td>0.1916597</td></tr>\n",
       "</tbody>\n",
       "</table>\n"
      ],
      "text/latex": [
       "A data.frame: 2 × 2\n",
       "\\begin{tabular}{ll}\n",
       " Relationship\\_Status & Attrition\\_rate\\\\\n",
       " <chr> & <dbl>\\\\\n",
       "\\hline\n",
       "\t Married & 0.1881232\\\\\n",
       "\t Single  & 0.1916597\\\\\n",
       "\\end{tabular}\n"
      ],
      "text/markdown": [
       "\n",
       "A data.frame: 2 × 2\n",
       "\n",
       "| Relationship_Status &lt;chr&gt; | Attrition_rate &lt;dbl&gt; |\n",
       "|---|---|\n",
       "| Married | 0.1881232 |\n",
       "| Single  | 0.1916597 |\n",
       "\n"
      ],
      "text/plain": [
       "  Relationship_Status Attrition_rate\n",
       "1 Married             0.1881232     \n",
       "2 Single              0.1916597     "
      ]
     },
     "metadata": {},
     "output_type": "display_data"
    }
   ],
   "source": [
    "relation_attrition <- aggregate(Attrition_rate~Relationship_Status, data=tr, FUN=mean, na.rm=T)\n",
    "\n",
    "relation_attrition"
   ]
  },
  {
   "cell_type": "markdown",
   "metadata": {},
   "source": [
    "Average attrition rate of Single status is slightly higher than Married status."
   ]
  },
  {
   "cell_type": "code",
   "execution_count": 24,
   "metadata": {},
   "outputs": [
    {
     "data": {
      "image/png": "[encoded data removed]",
      "text/plain": [
       "Plot with title \"Attrition Rate for Unit\""
      ]
     },
     "metadata": {
      "image/png": {
       "height": 420,
       "width": 420
      },
      "text/plain": {
       "height": 420,
       "width": 420
      }
     },
     "output_type": "display_data"
    }
   ],
   "source": [
    "fact_cols <- c('Hometown','Decision_skill_possess','Compensation_and_Benefits','Unit')\n",
    "\n",
    "layout(matrix(c(1,1,1,2,2,2,3,3,3,4,4,4), 4, 3, byrow = TRUE))\n",
    "\n",
    "for (i in fact_cols){\n",
    "  plot_table <- aggregate(Attrition_rate ~ get(i), data=tr, FUN=mean, na.rm=T)\n",
    "  plot_table <- plot_table %>% arrange(desc(Attrition_rate))\n",
    "  names(plot_table)[1] <- i\n",
    "  barplot(plot_table$Attrition_rate,names = plot_table[,i],\n",
    "          xlab = i, ylab = \"Attrition Rate\",\n",
    "          main = paste(\"Attrition Rate for\",i))\n",
    "}"
   ]
  },
  {
   "cell_type": "markdown",
   "metadata": {},
   "source": [
    "## Preprocessing Data"
   ]
  },
  {
   "cell_type": "markdown",
   "metadata": {},
   "source": [
    "#### One Hot Encoding - Gender and Relationship_Status"
   ]
  },
  {
   "cell_type": "code",
   "execution_count": 25,
   "metadata": {},
   "outputs": [],
   "source": [
    "# One Hot Encoding - Gender and Relationship_Status\n",
    "\n",
    "tr$Gender <- ifelse(tr$Gender == \"F\",1,0)\n",
    "te$Gender <- ifelse(te$Gender == \"F\",1,0)\n",
    "\n",
    "tr$Relationship_Status <- ifelse(tr$Relationship_Status == \"Married\",1,0)\n",
    "te$Relationship_Status <- ifelse(te$Relationship_Status == \"Married\",1,0)"
   ]
  },
  {
   "cell_type": "code",
   "execution_count": 26,
   "metadata": {},
   "outputs": [],
   "source": [
    "# Store IDs to use it later\n",
    "tr_id <- tr$Employee_ID\n",
    "te_id <- te$Employee_ID\n",
    "\n",
    "# Remove IDs from data\n",
    "tr$Employee_ID <- NULL\n",
    "te$Employee_ID <- NULL"
   ]
  },
  {
   "cell_type": "markdown",
   "metadata": {},
   "source": [
    "#### Label Encoding"
   ]
  },
  {
   "cell_type": "code",
   "execution_count": 28,
   "metadata": {},
   "outputs": [],
   "source": [
    "# Label Encoding \n",
    "\n",
    "for (i in fact_cols){\n",
    "  tr[[i]] <- as.numeric(as.factor(tr[[i]]))\n",
    "  te[[i]] <- as.numeric(as.factor(te[[i]]))\n",
    "}"
   ]
  },
  {
   "cell_type": "code",
   "execution_count": 29,
   "metadata": {},
   "outputs": [],
   "source": [
    "d <- tr\n",
    "\n",
    "# Storing Response variable in separate object\n",
    "y <- d$Attrition_rate\n",
    "d$Attrition_rate <- NULL"
   ]
  },
  {
   "cell_type": "markdown",
   "metadata": {},
   "source": [
    "#### The data is preprocessed using preProcess() function from caret package\n",
    "#### The data is transformed using z-score and Box-Cox to make it standardized and bell shaped"
   ]
  },
  {
   "cell_type": "code",
   "execution_count": 30,
   "metadata": {},
   "outputs": [],
   "source": [
    "#### Pre Processing\n",
    "\n",
    "preProcValues <- preProcess(d, method = c(\"center\",\"scale\",\"BoxCox\"))\n",
    "\n",
    "d <- predict(preProcValues, d)\n",
    "\n",
    "# Do for test\n",
    "\n",
    "preProctest <- preProcess(te, method = c(\"center\",\"scale\",\"BoxCox\"))\n",
    "\n",
    "te <- predict(preProctest, te)\n",
    "\n",
    "d$y <- y"
   ]
  },
  {
   "cell_type": "markdown",
   "metadata": {},
   "source": [
    "## Modeling"
   ]
  },
  {
   "cell_type": "markdown",
   "metadata": {},
   "source": [
    "#### Here, a custom metric is defined and data is trained based on this metric\n",
    "#### Score = 100*max(0,1-RMSE(actual_values, predicted_values))\n",
    "##### Score is function of RMSE"
   ]
  },
  {
   "cell_type": "code",
   "execution_count": 31,
   "metadata": {},
   "outputs": [],
   "source": [
    "# Define Eval Metric\n",
    "\n",
    "score <- function (data,\n",
    "                   lev = NULL,\n",
    "                   model = NULL) {\n",
    "  out <- 100*max(0,1-RMSE(data$obs, data$pred))\n",
    "  names(out) <- \"Score\"\n",
    "  out\n",
    "}"
   ]
  },
  {
   "cell_type": "markdown",
   "metadata": {},
   "source": [
    "#### A 5-fold CV is prepared to train the data"
   ]
  },
  {
   "cell_type": "code",
   "execution_count": 32,
   "metadata": {},
   "outputs": [],
   "source": [
    "# Train control\n",
    "\n",
    "ctrl <- trainControl(method=\"cv\",     # cross-validation set approach to use\n",
    "                     number=5,        # k number of times to do k-fold\n",
    "                     classProbs = FALSE,  # if you want probabilities\n",
    "                     summaryFunction = score,  # for regression\n",
    "                     allowParallel=T,\n",
    "                     verboseIter = T\n",
    ")"
   ]
  },
  {
   "cell_type": "markdown",
   "metadata": {},
   "source": [
    "### Models used for training: \n",
    "#### GBM, Random Forest, XGBoost, LightGBM, Ridge and Lasso Regression.\n",
    "\n",
    "##### Here, only Ridge and Lasso Regression are used as they performed well on train and test data."
   ]
  },
  {
   "cell_type": "code",
   "execution_count": 35,
   "metadata": {},
   "outputs": [],
   "source": [
    "# Set parameters for Ridge\n",
    "\n",
    "ridge_grid <- expand.grid(alpha = 0, lambda = 1)"
   ]
  },
  {
   "cell_type": "code",
   "execution_count": 36,
   "metadata": {},
   "outputs": [
    {
     "name": "stdout",
     "output_type": "stream",
     "text": [
      "+ Fold1: alpha=0, lambda=1 \n",
      "- Fold1: alpha=0, lambda=1 \n",
      "+ Fold2: alpha=0, lambda=1 \n",
      "- Fold2: alpha=0, lambda=1 \n",
      "+ Fold3: alpha=0, lambda=1 \n",
      "- Fold3: alpha=0, lambda=1 \n",
      "+ Fold4: alpha=0, lambda=1 \n",
      "- Fold4: alpha=0, lambda=1 \n",
      "+ Fold5: alpha=0, lambda=1 \n",
      "- Fold5: alpha=0, lambda=1 \n",
      "Aggregating results\n",
      "Fitting final model on full training set\n"
     ]
    }
   ],
   "source": [
    "# Set seed\n",
    "set.seed(42)\n",
    "\n",
    "# Train\n",
    "ridge_model <- train(y~.,\n",
    "                   data = d,        # train set used to build model\n",
    "                   method = \"glmnet\",      # type of model you want to build\n",
    "                   trControl = ctrl,    # how you want to learn\n",
    "                   metric = \"Score\",       # performance measure\n",
    "                   tuneGrid = ridge_grid)"
   ]
  },
  {
   "cell_type": "code",
   "execution_count": 41,
   "metadata": {},
   "outputs": [
    {
     "name": "stdout",
     "output_type": "stream",
     "text": [
      "[1] 0.1855832\n"
     ]
    }
   ],
   "source": [
    "# Predict on train data\n",
    "y_pred6_tr <- predict(ridge_model,d)\n",
    "\n",
    "# Print RMSE\n",
    "print(RMSE(y_pred6_tr,d$y))"
   ]
  },
  {
   "cell_type": "code",
   "execution_count": 42,
   "metadata": {},
   "outputs": [],
   "source": [
    "# Predict on test data\n",
    "y_pred6 <- predict(ridge_model,te)\n",
    "\n",
    "# Store result as a data frame\n",
    "results <- data.frame(cbind(te_id,y_pred6))\n",
    "names(results) <- c(\"Employee_ID\",\"Attrition_rate\")\t\n",
    "\n",
    "# write.table(results, \"Submissions\\\\ridge_1.csv\", row.names = F, sep = \",\")"
   ]
  },
  {
   "cell_type": "code",
   "execution_count": 43,
   "metadata": {},
   "outputs": [],
   "source": [
    "# Set parameters for Lasso\n",
    "lasso_grid <- expand.grid(alpha = 1, lambda = 1)"
   ]
  },
  {
   "cell_type": "code",
   "execution_count": 44,
   "metadata": {},
   "outputs": [
    {
     "name": "stdout",
     "output_type": "stream",
     "text": [
      "+ Fold1: alpha=1, lambda=1 \n",
      "- Fold1: alpha=1, lambda=1 \n",
      "+ Fold2: alpha=1, lambda=1 \n",
      "- Fold2: alpha=1, lambda=1 \n",
      "+ Fold3: alpha=1, lambda=1 \n",
      "- Fold3: alpha=1, lambda=1 \n",
      "+ Fold4: alpha=1, lambda=1 \n",
      "- Fold4: alpha=1, lambda=1 \n",
      "+ Fold5: alpha=1, lambda=1 \n",
      "- Fold5: alpha=1, lambda=1 \n",
      "Aggregating results\n",
      "Fitting final model on full training set\n"
     ]
    }
   ],
   "source": [
    "# Set seed\n",
    "set.seed(42)\n",
    "\n",
    "# Train\n",
    "lasso_model <- train(y~.,\n",
    "                     data = d,        # train set used to build model\n",
    "                     method = \"glmnet\",      # type of model you want to build\n",
    "                     trControl = ctrl,    # how you want to learn\n",
    "                     metric = \"Score\",       # performance measure\n",
    "                     tuneGrid = lasso_grid)"
   ]
  },
  {
   "cell_type": "code",
   "execution_count": 45,
   "metadata": {},
   "outputs": [
    {
     "name": "stdout",
     "output_type": "stream",
     "text": [
      "[1] 0.18574\n"
     ]
    }
   ],
   "source": [
    "# Predict on train data\n",
    "y_pred7_tr <- predict(lasso_model,d)\n",
    "\n",
    "# Print RMSE\n",
    "print(RMSE(y_pred7_tr,d$y))"
   ]
  },
  {
   "cell_type": "code",
   "execution_count": 46,
   "metadata": {},
   "outputs": [],
   "source": [
    "# Predict on test data\n",
    "y_pred7 <- predict(lasso_model,te)\n",
    "\n",
    "# Store result as a data frame\n",
    "results <- data.frame(cbind(te_id,y_pred7))\n",
    "names(results) <- c(\"Employee_ID\",\"Attrition_rate\")\t\n",
    "\n",
    "# write.table(results, \"Submissions\\\\lasso_1.csv\", row.names = F, sep = \",\")"
   ]
  },
  {
   "cell_type": "markdown",
   "metadata": {},
   "source": [
    "#### The Ridge Regression gave a score of 81.26217 out of 100\n",
    "#### The Lasso Regression gave a score of 81.26120 out of 100"
   ]
  },
  {
   "cell_type": "markdown",
   "metadata": {},
   "source": [
    "### Final model: Ridge Regression\n",
    "### Test Score: 81.26217 (Top 6% finish out of 5000+ participants)\n",
    "### For a complete set of models used, please visit the R code"
   ]
  },
  {
   "cell_type": "code",
   "execution_count": null,
   "metadata": {},
   "outputs": [],
   "source": []
  }
 ],
 "metadata": {
  "kernelspec": {
   "display_name": "R",
   "language": "R",
   "name": "ir"
  },
  "language_info": {
   "codemirror_mode": "r",
   "file_extension": ".r",
   "mimetype": "text/x-r-source",
   "name": "R",
   "pygments_lexer": "r",
   "version": "3.6.0"
  }
 },
 "nbformat": 4,
 "nbformat_minor": 2
}
